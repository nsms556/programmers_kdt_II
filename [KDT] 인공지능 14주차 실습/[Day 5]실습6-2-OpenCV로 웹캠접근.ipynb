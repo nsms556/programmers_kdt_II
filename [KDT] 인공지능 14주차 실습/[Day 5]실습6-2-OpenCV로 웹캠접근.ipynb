{
 "cells": [
  {
   "cell_type": "markdown",
   "metadata": {},
   "source": [
    "## OpenCV로 웹캠 접근"
   ]
  },
  {
   "cell_type": "markdown",
   "metadata": {},
   "source": [
    "밑의 예제는 다음 사이트에서 가져왔습니다:\n",
    "https://hoony-gunputer.tistory.com/"
   ]
  },
  {
   "cell_type": "code",
   "execution_count": 1,
   "metadata": {
    "collapsed": false
   },
   "outputs": [],
   "source": [
    "import cv2 #0이면 노트북 내장 웹캠 숫자를 올리면 추가된 웹캠을 이용할 수 있다. \n",
    "cap = cv2.VideoCapture(0) \n",
    "# 3은 가로 4는 세로 길이 \n",
    "cap.set(3, 720) \n",
    "cap.set(4, 1080) \n",
    "while True: \n",
    "    ret, frame = cap.read()\n",
    "    cv2.imshow('test', frame) \n",
    "    \n",
    "     # frame 에 대한 영상처리\n",
    "    # frame에 대해 object detection하고\n",
    "    # frame에다가 box를 그려주기  \n",
    "    \n",
    "    k = cv2.waitKey(1) \n",
    "    if k == 27: \n",
    "        break \n",
    "cap.release() \n",
    "cv2.destroyAllWindows()"
   ]
  },
  {
   "cell_type": "markdown",
   "metadata": {},
   "source": [
    "## OpenCV로 동영상 저장"
   ]
  },
  {
   "cell_type": "code",
   "execution_count": 1,
   "metadata": {
    "collapsed": true
   },
   "outputs": [],
   "source": [
    "import cv2 \n",
    "cap = cv2.VideoCapture(0) \n",
    "cap.set(3, 720) \n",
    "cap.set(4, 1080) \n",
    "fc = 20.0 \n",
    "codec = cv2.VideoWriter_fourcc('D', 'I', 'V', 'X') \n",
    "out = cv2.VideoWriter('mycam.avi', codec, fc, (int(cap.get(3)), int(cap.get(4)))) \n",
    "while True: \n",
    "    ret, frame = cap.read()\n",
    "    cv2.imshow('test', frame)\n",
    "    # frame 에 대한 영상처리\n",
    "    # frame에 대해 object detection하고\n",
    "    # frame에다가 box를 그려주기    \n",
    "    \n",
    "    out.write(frame) \n",
    "    k = cv2.waitKey(1) \n",
    "    if k == 27: break \n",
    "cap.release() \n",
    "cv2.destroyAllWindows()"
   ]
  },
  {
   "cell_type": "code",
   "execution_count": null,
   "metadata": {
    "collapsed": true
   },
   "outputs": [],
   "source": []
  }
 ],
 "metadata": {
  "anaconda-cloud": {},
  "kernelspec": {
   "display_name": "Python [default]",
   "language": "python",
   "name": "python3"
  },
  "language_info": {
   "codemirror_mode": {
    "name": "ipython",
    "version": 3
   },
   "file_extension": ".py",
   "mimetype": "text/x-python",
   "name": "python",
   "nbconvert_exporter": "python",
   "pygments_lexer": "ipython3",
   "version": "3.5.5"
  }
 },
 "nbformat": 4,
 "nbformat_minor": 1
}
